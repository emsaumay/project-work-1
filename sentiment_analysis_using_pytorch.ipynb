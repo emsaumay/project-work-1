{
  "cells": [
    {
      "cell_type": "code",
      "execution_count": null,
      "id": "6b8cfc1f",
      "metadata": {
        "execution": {
          "iopub.execute_input": "2023-12-14T17:31:27.129393Z",
          "iopub.status.busy": "2023-12-14T17:31:27.128872Z",
          "iopub.status.idle": "2023-12-14T17:31:43.788633Z",
          "shell.execute_reply": "2023-12-14T17:31:43.787371Z"
        },
        "papermill": {
          "duration": 16.676692,
          "end_time": "2023-12-14T17:31:43.791858",
          "exception": false,
          "start_time": "2023-12-14T17:31:27.115166",
          "status": "completed"
        },
        "tags": [],
        "id": "6b8cfc1f",
        "outputId": "21056dbf-f305-47ed-d927-cb6e65009c0c"
      },
      "outputs": [
        {
          "name": "stdout",
          "output_type": "stream",
          "text": [
            "Requirement already satisfied: nltk in /opt/conda/lib/python3.10/site-packages (3.2.4)\r\n",
            "Requirement already satisfied: six in /opt/conda/lib/python3.10/site-packages (from nltk) (1.16.0)\r\n"
          ]
        }
      ],
      "source": [
        "# nltk is one of the most useful libraries when it comes to nlp\n",
        "!pip install nltk"
      ]
    },
    {
      "cell_type": "code",
      "execution_count": null,
      "id": "373952c4",
      "metadata": {
        "_cell_guid": "b1076dfc-b9ad-4769-8c92-a6c4dae69d19",
        "_uuid": "8f2839f25d086af736a60e9eeb907d3b93b6e0e5",
        "execution": {
          "iopub.execute_input": "2023-12-14T17:31:43.840302Z",
          "iopub.status.busy": "2023-12-14T17:31:43.839424Z",
          "iopub.status.idle": "2023-12-14T17:32:09.519668Z",
          "shell.execute_reply": "2023-12-14T17:32:09.518446Z"
        },
        "papermill": {
          "duration": 25.696572,
          "end_time": "2023-12-14T17:32:09.523121",
          "exception": false,
          "start_time": "2023-12-14T17:31:43.826549",
          "status": "completed"
        },
        "tags": [],
        "id": "373952c4",
        "outputId": "5dfe4b43-bd4f-4381-beea-2d19bec6fe70"
      },
      "outputs": [
        {
          "name": "stdout",
          "output_type": "stream",
          "text": [
            "[nltk_data] Downloading package wordnet to /usr/share/nltk_data...\n",
            "[nltk_data]   Package wordnet is already up-to-date!\n",
            "Archive:  /usr/share/nltk_data/corpora/wordnet.zip\r\n",
            "   creating: /usr/share/nltk_data/corpora/wordnet/\r\n",
            "  inflating: /usr/share/nltk_data/corpora/wordnet/lexnames  \r\n",
            "  inflating: /usr/share/nltk_data/corpora/wordnet/data.verb  \r\n",
            "  inflating: /usr/share/nltk_data/corpora/wordnet/index.adv  \r\n",
            "  inflating: /usr/share/nltk_data/corpora/wordnet/adv.exc  \r\n",
            "  inflating: /usr/share/nltk_data/corpora/wordnet/index.verb  \r\n",
            "  inflating: /usr/share/nltk_data/corpora/wordnet/cntlist.rev  \r\n",
            "  inflating: /usr/share/nltk_data/corpora/wordnet/data.adj  \r\n",
            "  inflating: /usr/share/nltk_data/corpora/wordnet/index.adj  \r\n",
            "  inflating: /usr/share/nltk_data/corpora/wordnet/LICENSE  \r\n",
            "  inflating: /usr/share/nltk_data/corpora/wordnet/citation.bib  \r\n",
            "  inflating: /usr/share/nltk_data/corpora/wordnet/noun.exc  \r\n",
            "  inflating: /usr/share/nltk_data/corpora/wordnet/verb.exc  \r\n",
            "  inflating: /usr/share/nltk_data/corpora/wordnet/README  \r\n",
            "  inflating: /usr/share/nltk_data/corpora/wordnet/index.sense  \r\n",
            "  inflating: /usr/share/nltk_data/corpora/wordnet/data.noun  \r\n",
            "  inflating: /usr/share/nltk_data/corpora/wordnet/data.adv  \r\n",
            "  inflating: /usr/share/nltk_data/corpora/wordnet/index.noun  \r\n",
            "  inflating: /usr/share/nltk_data/corpora/wordnet/adj.exc  \r\n"
          ]
        }
      ],
      "source": [
        "import string\n",
        "import numpy as np\n",
        "import pandas as pd\n",
        "import seaborn as sns\n",
        "from wordcloud import WordCloud\n",
        "\n",
        "import nltk\n",
        "\n",
        "nltk.download('wordnet')\n",
        "!unzip /usr/share/nltk_data/corpora/wordnet.zip -d /usr/share/nltk_data/corpora/\n",
        "\n",
        "from nltk.corpus import stopwords\n",
        "from nltk.stem.snowball import SnowballStemmer\n",
        "from nltk.stem.wordnet import WordNetLemmatizer\n",
        "from sklearn.model_selection import train_test_split, StratifiedKFold, cross_val_score\n",
        "from tensorflow.keras.preprocessing.text import Tokenizer\n",
        "from tensorflow.keras.preprocessing.sequence import pad_sequences\n",
        "\n",
        "\n",
        "import torch\n",
        "from tqdm import tqdm\n",
        "torch.cuda.is_available()\n",
        "\n",
        "import warnings\n",
        "warnings.filterwarnings('ignore')"
      ]
    },
    {
      "cell_type": "code",
      "execution_count": null,
      "id": "4e124ef0",
      "metadata": {
        "execution": {
          "iopub.execute_input": "2023-12-14T17:32:09.551164Z",
          "iopub.status.busy": "2023-12-14T17:32:09.549510Z",
          "iopub.status.idle": "2023-12-14T17:32:09.968845Z",
          "shell.execute_reply": "2023-12-14T17:32:09.967128Z"
        },
        "papermill": {
          "duration": 0.437091,
          "end_time": "2023-12-14T17:32:09.972183",
          "exception": false,
          "start_time": "2023-12-14T17:32:09.535092",
          "status": "completed"
        },
        "tags": [],
        "id": "4e124ef0",
        "outputId": "4824c215-ed9f-43b9-d441-d440306b60ec"
      },
      "outputs": [
        {
          "data": {
            "text/html": [
              "<div>\n",
              "<style scoped>\n",
              "    .dataframe tbody tr th:only-of-type {\n",
              "        vertical-align: middle;\n",
              "    }\n",
              "\n",
              "    .dataframe tbody tr th {\n",
              "        vertical-align: top;\n",
              "    }\n",
              "\n",
              "    .dataframe thead th {\n",
              "        text-align: right;\n",
              "    }\n",
              "</style>\n",
              "<table border=\"1\" class=\"dataframe\">\n",
              "  <thead>\n",
              "    <tr style=\"text-align: right;\">\n",
              "      <th></th>\n",
              "      <th>Review</th>\n",
              "      <th>Rating</th>\n",
              "    </tr>\n",
              "  </thead>\n",
              "  <tbody>\n",
              "    <tr>\n",
              "      <th>0</th>\n",
              "      <td>nice hotel expensive parking got good deal sta...</td>\n",
              "      <td>4</td>\n",
              "    </tr>\n",
              "    <tr>\n",
              "      <th>1</th>\n",
              "      <td>ok nothing special charge diamond member hilto...</td>\n",
              "      <td>2</td>\n",
              "    </tr>\n",
              "    <tr>\n",
              "      <th>2</th>\n",
              "      <td>nice rooms not 4* experience hotel monaco seat...</td>\n",
              "      <td>3</td>\n",
              "    </tr>\n",
              "    <tr>\n",
              "      <th>3</th>\n",
              "      <td>unique, great stay, wonderful time hotel monac...</td>\n",
              "      <td>5</td>\n",
              "    </tr>\n",
              "    <tr>\n",
              "      <th>4</th>\n",
              "      <td>great stay great stay, went seahawk game aweso...</td>\n",
              "      <td>5</td>\n",
              "    </tr>\n",
              "  </tbody>\n",
              "</table>\n",
              "</div>"
            ],
            "text/plain": [
              "                                              Review  Rating\n",
              "0  nice hotel expensive parking got good deal sta...       4\n",
              "1  ok nothing special charge diamond member hilto...       2\n",
              "2  nice rooms not 4* experience hotel monaco seat...       3\n",
              "3  unique, great stay, wonderful time hotel monac...       5\n",
              "4  great stay great stay, went seahawk game aweso...       5"
            ]
          },
          "execution_count": 3,
          "metadata": {},
          "output_type": "execute_result"
        }
      ],
      "source": [
        "df = pd.read_csv('/kaggle/input/trip-advisor-hotel-reviews/tripadvisor_hotel_reviews.csv')\n",
        "df.head()"
      ]
    },
    {
      "cell_type": "code",
      "execution_count": null,
      "id": "33723e7d",
      "metadata": {
        "execution": {
          "iopub.execute_input": "2023-12-14T17:32:09.999231Z",
          "iopub.status.busy": "2023-12-14T17:32:09.998744Z",
          "iopub.status.idle": "2023-12-14T17:32:10.044001Z",
          "shell.execute_reply": "2023-12-14T17:32:10.042084Z"
        },
        "papermill": {
          "duration": 0.06295,
          "end_time": "2023-12-14T17:32:10.047819",
          "exception": false,
          "start_time": "2023-12-14T17:32:09.984869",
          "status": "completed"
        },
        "tags": [],
        "id": "33723e7d",
        "outputId": "f9aca1bf-52e5-4aa0-b005-5305fef8e7e8"
      },
      "outputs": [
        {
          "name": "stdout",
          "output_type": "stream",
          "text": [
            "<class 'pandas.core.frame.DataFrame'>\n",
            "RangeIndex: 20491 entries, 0 to 20490\n",
            "Data columns (total 2 columns):\n",
            " #   Column  Non-Null Count  Dtype \n",
            "---  ------  --------------  ----- \n",
            " 0   Review  20491 non-null  object\n",
            " 1   Rating  20491 non-null  int64 \n",
            "dtypes: int64(1), object(1)\n",
            "memory usage: 320.3+ KB\n"
          ]
        }
      ],
      "source": [
        "df.info()"
      ]
    },
    {
      "cell_type": "code",
      "execution_count": null,
      "id": "796e3387",
      "metadata": {
        "execution": {
          "iopub.execute_input": "2023-12-14T17:32:10.525226Z",
          "iopub.status.busy": "2023-12-14T17:32:10.524052Z",
          "iopub.status.idle": "2023-12-14T17:32:10.731205Z",
          "shell.execute_reply": "2023-12-14T17:32:10.729627Z"
        },
        "papermill": {
          "duration": 0.226692,
          "end_time": "2023-12-14T17:32:10.734186",
          "exception": false,
          "start_time": "2023-12-14T17:32:10.507494",
          "status": "completed"
        },
        "tags": [],
        "id": "796e3387",
        "outputId": "aa78b4a5-7a07-4028-d86c-351c45f528b3"
      },
      "outputs": [
        {
          "data": {
            "text/html": [
              "<div>\n",
              "<style scoped>\n",
              "    .dataframe tbody tr th:only-of-type {\n",
              "        vertical-align: middle;\n",
              "    }\n",
              "\n",
              "    .dataframe tbody tr th {\n",
              "        vertical-align: top;\n",
              "    }\n",
              "\n",
              "    .dataframe thead th {\n",
              "        text-align: right;\n",
              "    }\n",
              "</style>\n",
              "<table border=\"1\" class=\"dataframe\">\n",
              "  <thead>\n",
              "    <tr style=\"text-align: right;\">\n",
              "      <th></th>\n",
              "      <th>Review</th>\n",
              "      <th>Rating</th>\n",
              "      <th>Length</th>\n",
              "    </tr>\n",
              "  </thead>\n",
              "  <tbody>\n",
              "    <tr>\n",
              "      <th>0</th>\n",
              "      <td>nice hotel expensive parking got good deal sta...</td>\n",
              "      <td>4</td>\n",
              "      <td>89</td>\n",
              "    </tr>\n",
              "    <tr>\n",
              "      <th>1</th>\n",
              "      <td>ok nothing special charge diamond member hilto...</td>\n",
              "      <td>2</td>\n",
              "      <td>252</td>\n",
              "    </tr>\n",
              "    <tr>\n",
              "      <th>2</th>\n",
              "      <td>nice rooms not 4* experience hotel monaco seat...</td>\n",
              "      <td>3</td>\n",
              "      <td>219</td>\n",
              "    </tr>\n",
              "    <tr>\n",
              "      <th>3</th>\n",
              "      <td>unique, great stay, wonderful time hotel monac...</td>\n",
              "      <td>5</td>\n",
              "      <td>91</td>\n",
              "    </tr>\n",
              "    <tr>\n",
              "      <th>4</th>\n",
              "      <td>great stay great stay, went seahawk game aweso...</td>\n",
              "      <td>5</td>\n",
              "      <td>193</td>\n",
              "    </tr>\n",
              "  </tbody>\n",
              "</table>\n",
              "</div>"
            ],
            "text/plain": [
              "                                              Review  Rating  Length\n",
              "0  nice hotel expensive parking got good deal sta...       4      89\n",
              "1  ok nothing special charge diamond member hilto...       2     252\n",
              "2  nice rooms not 4* experience hotel monaco seat...       3     219\n",
              "3  unique, great stay, wonderful time hotel monac...       5      91\n",
              "4  great stay great stay, went seahawk game aweso...       5     193"
            ]
          },
          "execution_count": 6,
          "metadata": {},
          "output_type": "execute_result"
        }
      ],
      "source": [
        "df['Length'] = df['Review'].apply(lambda r: len(r.split(\" \")))\n",
        "df.head()"
      ]
    },
    {
      "cell_type": "code",
      "execution_count": null,
      "id": "5721f4eb",
      "metadata": {
        "execution": {
          "iopub.execute_input": "2023-12-14T17:32:13.573534Z",
          "iopub.status.busy": "2023-12-14T17:32:13.573008Z",
          "iopub.status.idle": "2023-12-14T17:32:13.580673Z",
          "shell.execute_reply": "2023-12-14T17:32:13.579274Z"
        },
        "papermill": {
          "duration": 0.030402,
          "end_time": "2023-12-14T17:32:13.583548",
          "exception": false,
          "start_time": "2023-12-14T17:32:13.553146",
          "status": "completed"
        },
        "tags": [],
        "id": "5721f4eb"
      },
      "outputs": [],
      "source": [
        "def rating(score):\n",
        "    if score > 3:\n",
        "        return 2 # Good\n",
        "    elif score == 3:\n",
        "        return 1 # Neutral\n",
        "    else:\n",
        "        return 0 # Bad"
      ]
    },
    {
      "cell_type": "code",
      "execution_count": null,
      "id": "857b6186",
      "metadata": {
        "execution": {
          "iopub.execute_input": "2023-12-14T17:32:13.616402Z",
          "iopub.status.busy": "2023-12-14T17:32:13.615571Z",
          "iopub.status.idle": "2023-12-14T17:32:13.639714Z",
          "shell.execute_reply": "2023-12-14T17:32:13.638559Z"
        },
        "papermill": {
          "duration": 0.044989,
          "end_time": "2023-12-14T17:32:13.643151",
          "exception": false,
          "start_time": "2023-12-14T17:32:13.598162",
          "status": "completed"
        },
        "tags": [],
        "id": "857b6186"
      },
      "outputs": [],
      "source": [
        "df['Rating'] = df['Rating'].apply(rating)"
      ]
    },
    {
      "cell_type": "code",
      "execution_count": null,
      "id": "4d5b09cb",
      "metadata": {
        "execution": {
          "iopub.execute_input": "2023-12-14T17:32:13.676936Z",
          "iopub.status.busy": "2023-12-14T17:32:13.676018Z",
          "iopub.status.idle": "2023-12-14T17:32:13.688981Z",
          "shell.execute_reply": "2023-12-14T17:32:13.687507Z"
        },
        "papermill": {
          "duration": 0.033288,
          "end_time": "2023-12-14T17:32:13.692167",
          "exception": false,
          "start_time": "2023-12-14T17:32:13.658879",
          "status": "completed"
        },
        "tags": [],
        "id": "4d5b09cb",
        "outputId": "af5a5ec5-0236-4dce-9de8-7eeec240ad7b"
      },
      "outputs": [
        {
          "data": {
            "text/html": [
              "<div>\n",
              "<style scoped>\n",
              "    .dataframe tbody tr th:only-of-type {\n",
              "        vertical-align: middle;\n",
              "    }\n",
              "\n",
              "    .dataframe tbody tr th {\n",
              "        vertical-align: top;\n",
              "    }\n",
              "\n",
              "    .dataframe thead th {\n",
              "        text-align: right;\n",
              "    }\n",
              "</style>\n",
              "<table border=\"1\" class=\"dataframe\">\n",
              "  <thead>\n",
              "    <tr style=\"text-align: right;\">\n",
              "      <th></th>\n",
              "      <th>Review</th>\n",
              "      <th>Rating</th>\n",
              "      <th>Length</th>\n",
              "    </tr>\n",
              "  </thead>\n",
              "  <tbody>\n",
              "    <tr>\n",
              "      <th>0</th>\n",
              "      <td>nice hotel expensive parking got good deal sta...</td>\n",
              "      <td>2</td>\n",
              "      <td>89</td>\n",
              "    </tr>\n",
              "    <tr>\n",
              "      <th>1</th>\n",
              "      <td>ok nothing special charge diamond member hilto...</td>\n",
              "      <td>0</td>\n",
              "      <td>252</td>\n",
              "    </tr>\n",
              "    <tr>\n",
              "      <th>2</th>\n",
              "      <td>nice rooms not 4* experience hotel monaco seat...</td>\n",
              "      <td>1</td>\n",
              "      <td>219</td>\n",
              "    </tr>\n",
              "    <tr>\n",
              "      <th>3</th>\n",
              "      <td>unique, great stay, wonderful time hotel monac...</td>\n",
              "      <td>2</td>\n",
              "      <td>91</td>\n",
              "    </tr>\n",
              "    <tr>\n",
              "      <th>4</th>\n",
              "      <td>great stay great stay, went seahawk game aweso...</td>\n",
              "      <td>2</td>\n",
              "      <td>193</td>\n",
              "    </tr>\n",
              "  </tbody>\n",
              "</table>\n",
              "</div>"
            ],
            "text/plain": [
              "                                              Review  Rating  Length\n",
              "0  nice hotel expensive parking got good deal sta...       2      89\n",
              "1  ok nothing special charge diamond member hilto...       0     252\n",
              "2  nice rooms not 4* experience hotel monaco seat...       1     219\n",
              "3  unique, great stay, wonderful time hotel monac...       2      91\n",
              "4  great stay great stay, went seahawk game aweso...       2     193"
            ]
          },
          "execution_count": 11,
          "metadata": {},
          "output_type": "execute_result"
        }
      ],
      "source": [
        "df.head()"
      ]
    },
    {
      "cell_type": "code",
      "execution_count": null,
      "id": "a9d70d0e",
      "metadata": {
        "execution": {
          "iopub.execute_input": "2023-12-14T17:32:13.752658Z",
          "iopub.status.busy": "2023-12-14T17:32:13.752149Z",
          "iopub.status.idle": "2023-12-14T17:32:16.724714Z",
          "shell.execute_reply": "2023-12-14T17:32:16.723548Z"
        },
        "papermill": {
          "duration": 2.991512,
          "end_time": "2023-12-14T17:32:16.727523",
          "exception": false,
          "start_time": "2023-12-14T17:32:13.736011",
          "status": "completed"
        },
        "tags": [],
        "id": "a9d70d0e",
        "outputId": "a035e46c-5386-4d7f-97d7-8a191fd31f46"
      },
      "outputs": [
        {
          "name": "stdout",
          "output_type": "stream",
          "text": [
            "Original:\n",
            "nice hotel expensive parking got good deal stay hotel anniversary, arrived late evening took advice previous reviews did valet parking, check quick easy, little disappointed non-existent view room room clean nice size, bed comfortable woke stiff neck high pillows, not soundproof like heard music room night morning loud bangs doors opening closing hear people talking hallway, maybe just noisy neighbors, aveda bath products nice, did not goldfish stay nice touch taken advantage staying longer, location great walking distance shopping, overall nice experience having pay 40 parking night,  \n",
            "\n",
            "Stemming:\n",
            "nice hotel expens park got good deal stay hotel anniversary, arriv late even took advic previous review did valet parking, check quick easy, littl disappoint non-exist view room room clean nice size, bed comfort woke stiff neck high pillows, not soundproof like heard music room night morn loud bang door open close hear peopl talk hallway, mayb just noisi neighbors, aveda bath product nice, did not goldfish stay nice touch taken advantag stay longer, locat great walk distanc shopping, overal nice experi have pay 40 park night,\n",
            "\n",
            "Lemmatization:\n",
            "nice hotel expensive park get good deal stay hotel anniversary, arrive late even take advice previous review do valet parking, check quick easy, little disappoint non-existent view room room clean nice size, bed comfortable wake stiff neck high pillows, not soundproof like hear music room night morning loud bang doors open close hear people talk hallway, maybe just noisy neighbors, aveda bath products nice, do not goldfish stay nice touch take advantage stay longer, location great walk distance shopping, overall nice experience have pay 40 park night,\n"
          ]
        }
      ],
      "source": [
        "# Stemming vs Lemmatization\n",
        "\n",
        "print('Original:')\n",
        "print(df['Review'][0])\n",
        "print()\n",
        "\n",
        "sentence = []\n",
        "for word in df['Review'][0].split():\n",
        "    stemmer = SnowballStemmer('english')\n",
        "    sentence.append(stemmer.stem(word))\n",
        "print('Stemming:')\n",
        "print(' '.join(sentence))\n",
        "print()\n",
        "\n",
        "sentence = []\n",
        "for word in df['Review'][0].split():\n",
        "    lemmatizer = WordNetLemmatizer()\n",
        "    sentence.append(lemmatizer.lemmatize(word, 'v'))\n",
        "print('Lemmatization:')\n",
        "print(' '.join(sentence))"
      ]
    },
    {
      "cell_type": "code",
      "execution_count": null,
      "id": "a9a7cdd1",
      "metadata": {
        "execution": {
          "iopub.execute_input": "2023-12-14T17:32:16.761289Z",
          "iopub.status.busy": "2023-12-14T17:32:16.759352Z",
          "iopub.status.idle": "2023-12-14T17:32:16.768906Z",
          "shell.execute_reply": "2023-12-14T17:32:16.767263Z"
        },
        "papermill": {
          "duration": 0.030224,
          "end_time": "2023-12-14T17:32:16.772145",
          "exception": false,
          "start_time": "2023-12-14T17:32:16.741921",
          "status": "completed"
        },
        "tags": [],
        "id": "a9a7cdd1"
      },
      "outputs": [],
      "source": [
        "def cleaning(text):\n",
        "    #remove punctuations and uppercase\n",
        "    clean_text = text.translate(str.maketrans('','',string.punctuation)).lower()\n",
        "\n",
        "    #remove stopwords\n",
        "    clean_text = [word for word in clean_text.split() if word not in stopwords.words('english')]\n",
        "\n",
        "    #lemmatize the word\n",
        "    sentence = []\n",
        "    for word in clean_text:\n",
        "        lemmatizer = WordNetLemmatizer()\n",
        "        sentence.append(lemmatizer.lemmatize(word, 'v'))\n",
        "\n",
        "    return ' '.join(sentence)"
      ]
    },
    {
      "cell_type": "code",
      "execution_count": null,
      "id": "a0c2e413",
      "metadata": {
        "execution": {
          "iopub.execute_input": "2023-12-14T17:32:16.806018Z",
          "iopub.status.busy": "2023-12-14T17:32:16.805166Z",
          "iopub.status.idle": "2023-12-14T17:37:33.832239Z",
          "shell.execute_reply": "2023-12-14T17:37:33.830781Z"
        },
        "papermill": {
          "duration": 317.048587,
          "end_time": "2023-12-14T17:37:33.835794",
          "exception": false,
          "start_time": "2023-12-14T17:32:16.787207",
          "status": "completed"
        },
        "tags": [],
        "id": "a0c2e413"
      },
      "outputs": [],
      "source": [
        "df['Review'] = df['Review'].apply(cleaning)"
      ]
    },
    {
      "cell_type": "code",
      "execution_count": null,
      "id": "460ca752",
      "metadata": {
        "execution": {
          "iopub.execute_input": "2023-12-14T17:37:33.867038Z",
          "iopub.status.busy": "2023-12-14T17:37:33.866533Z",
          "iopub.status.idle": "2023-12-14T17:37:34.040988Z",
          "shell.execute_reply": "2023-12-14T17:37:34.039142Z"
        },
        "papermill": {
          "duration": 0.193109,
          "end_time": "2023-12-14T17:37:34.043744",
          "exception": false,
          "start_time": "2023-12-14T17:37:33.850635",
          "status": "completed"
        },
        "tags": [],
        "id": "460ca752",
        "outputId": "29bc875f-d39c-45ae-8642-ff9ce37130bf"
      },
      "outputs": [
        {
          "name": "stdout",
          "output_type": "stream",
          "text": [
            "Total word after cleaning: 2063023\n"
          ]
        }
      ],
      "source": [
        "df['Length'] = df['Review'].apply(lambda r: len(r.split(\" \")))\n",
        "new_length = df['Length'].sum()\n",
        "\n",
        "print('Total word after cleaning: {}'.format(new_length))"
      ]
    },
    {
      "cell_type": "markdown",
      "id": "8d6ccc13",
      "metadata": {
        "papermill": {
          "duration": 0.014444,
          "end_time": "2023-12-14T17:38:01.385943",
          "exception": false,
          "start_time": "2023-12-14T17:38:01.371499",
          "status": "completed"
        },
        "tags": [],
        "id": "8d6ccc13"
      },
      "source": [
        "# Train test split & creating model"
      ]
    },
    {
      "cell_type": "code",
      "execution_count": null,
      "id": "1cc879ed",
      "metadata": {
        "execution": {
          "iopub.execute_input": "2023-12-14T17:38:01.419410Z",
          "iopub.status.busy": "2023-12-14T17:38:01.418905Z",
          "iopub.status.idle": "2023-12-14T17:38:01.430021Z",
          "shell.execute_reply": "2023-12-14T17:38:01.428615Z"
        },
        "papermill": {
          "duration": 0.031848,
          "end_time": "2023-12-14T17:38:01.432878",
          "exception": false,
          "start_time": "2023-12-14T17:38:01.401030",
          "status": "completed"
        },
        "tags": [],
        "id": "1cc879ed"
      },
      "outputs": [],
      "source": [
        "X_train, X_test, y_train, y_test = train_test_split(df['Review'], df['Rating'], test_size=0.2)"
      ]
    },
    {
      "cell_type": "code",
      "execution_count": null,
      "id": "554b3673",
      "metadata": {
        "execution": {
          "iopub.execute_input": "2023-12-14T17:38:01.465680Z",
          "iopub.status.busy": "2023-12-14T17:38:01.465203Z",
          "iopub.status.idle": "2023-12-14T17:38:05.811235Z",
          "shell.execute_reply": "2023-12-14T17:38:05.809906Z"
        },
        "papermill": {
          "duration": 4.366698,
          "end_time": "2023-12-14T17:38:05.814530",
          "exception": false,
          "start_time": "2023-12-14T17:38:01.447832",
          "status": "completed"
        },
        "tags": [],
        "id": "554b3673",
        "outputId": "b1563633-7a0b-4c0c-a9a4-b547a3d4fd96"
      },
      "outputs": [
        {
          "name": "stdout",
          "output_type": "stream",
          "text": [
            "Total distinct words: 64787\n"
          ]
        }
      ],
      "source": [
        "# build vocabulary, convert text => number\n",
        "tokenizer = Tokenizer(num_words=10000, oov_token='<OOV>')\n",
        "\n",
        "tokenizer.fit_on_texts(X_train)\n",
        "# print(tokenizer.word_index)\n",
        "total_word = len(tokenizer.word_index)\n",
        "print('Total distinct words: {}'.format(total_word))\n",
        "\n",
        "X_train = tokenizer.texts_to_sequences(X_train)\n",
        "X_train = pad_sequences(X_train, maxlen=80)\n",
        "\n",
        "X_test = tokenizer.texts_to_sequences(X_test)\n",
        "X_test = pad_sequences(X_test, maxlen=80)"
      ]
    },
    {
      "cell_type": "code",
      "execution_count": null,
      "id": "79b78889",
      "metadata": {
        "execution": {
          "iopub.execute_input": "2023-12-14T17:38:05.849943Z",
          "iopub.status.busy": "2023-12-14T17:38:05.849458Z",
          "iopub.status.idle": "2023-12-14T17:38:05.858980Z",
          "shell.execute_reply": "2023-12-14T17:38:05.857706Z"
        },
        "papermill": {
          "duration": 0.030196,
          "end_time": "2023-12-14T17:38:05.861690",
          "exception": false,
          "start_time": "2023-12-14T17:38:05.831494",
          "status": "completed"
        },
        "tags": [],
        "id": "79b78889",
        "outputId": "8b52362d-6aae-4e92-9b3a-cd3acb0fa911"
      },
      "outputs": [
        {
          "data": {
            "text/plain": [
              "20387    2\n",
              "804      2\n",
              "7379     2\n",
              "17468    2\n",
              "18139    2\n",
              "Name: Rating, dtype: int64"
            ]
          },
          "execution_count": 19,
          "metadata": {},
          "output_type": "execute_result"
        }
      ],
      "source": [
        "y_test.head()"
      ]
    },
    {
      "cell_type": "code",
      "execution_count": null,
      "id": "15cad7b5",
      "metadata": {
        "execution": {
          "iopub.execute_input": "2023-12-14T17:38:05.989267Z",
          "iopub.status.busy": "2023-12-14T17:38:05.988759Z",
          "iopub.status.idle": "2023-12-14T17:38:05.994906Z",
          "shell.execute_reply": "2023-12-14T17:38:05.993586Z"
        },
        "papermill": {
          "duration": 0.026127,
          "end_time": "2023-12-14T17:38:05.997714",
          "exception": false,
          "start_time": "2023-12-14T17:38:05.971587",
          "status": "completed"
        },
        "tags": [],
        "id": "15cad7b5"
      },
      "outputs": [],
      "source": [
        "y_train = y_train.to_numpy()\n",
        "y_test = y_test.to_numpy()"
      ]
    },
    {
      "cell_type": "code",
      "execution_count": null,
      "id": "fb2c970e",
      "metadata": {
        "execution": {
          "iopub.execute_input": "2023-12-14T17:38:06.031494Z",
          "iopub.status.busy": "2023-12-14T17:38:06.030972Z",
          "iopub.status.idle": "2023-12-14T17:38:06.042083Z",
          "shell.execute_reply": "2023-12-14T17:38:06.041126Z"
        },
        "papermill": {
          "duration": 0.030786,
          "end_time": "2023-12-14T17:38:06.044517",
          "exception": false,
          "start_time": "2023-12-14T17:38:06.013731",
          "status": "completed"
        },
        "tags": [],
        "id": "fb2c970e"
      },
      "outputs": [],
      "source": [
        "class SentimentAnalysis(torch.nn.Module):\n",
        "\n",
        "    def __init__(self, total_word, embed_size, hidden_size, num_class, padding_index=0):\n",
        "        super().__init__()\n",
        "        self.total_word = total_word\n",
        "        self.embed_size = embed_size\n",
        "        self.hidden_size = hidden_size\n",
        "        self.num_class = num_class\n",
        "\n",
        "        self.embed = torch.nn.Embedding(num_embeddings=total_word,\n",
        "                                        embedding_dim=embed_size,\n",
        "                                        padding_idx=padding_index)\n",
        "        self.lstm = torch.nn.LSTM(input_size=self.embed_size,\n",
        "                                  hidden_size=self.hidden_size,\n",
        "                                  num_layers=1,\n",
        "                                  bidirectional=True,\n",
        "                                  batch_first=True)\n",
        "        self.classifier = torch.nn.Sequential(\n",
        "            # TODO: add more Linear layer, Activation layer\n",
        "            torch.nn.Linear(in_features=2*self.hidden_size, out_features=num_class)\n",
        "        )\n",
        "\n",
        "    def forward(self, X):\n",
        "        out = self.embed(X)\n",
        "        out, _ = self.lstm(out)\n",
        "        out = self.classifier(out[:, -1, :])\n",
        "        return out"
      ]
    },
    {
      "cell_type": "code",
      "execution_count": null,
      "id": "bc163829",
      "metadata": {
        "execution": {
          "iopub.execute_input": "2023-12-14T17:38:06.077703Z",
          "iopub.status.busy": "2023-12-14T17:38:06.076883Z",
          "iopub.status.idle": "2023-12-14T17:38:06.082173Z",
          "shell.execute_reply": "2023-12-14T17:38:06.081119Z"
        },
        "papermill": {
          "duration": 0.025184,
          "end_time": "2023-12-14T17:38:06.085042",
          "exception": false,
          "start_time": "2023-12-14T17:38:06.059858",
          "status": "completed"
        },
        "tags": [],
        "id": "bc163829"
      },
      "outputs": [],
      "source": [
        "NUM_VOCAB = total_word\n",
        "EMBED_SIZE = 128\n",
        "HIDDEN_SIZE = 164\n",
        "NUM_CLASS = 3\n",
        "BATCH_SIZE = 64\n",
        "EPOCH = 5"
      ]
    },
    {
      "cell_type": "code",
      "execution_count": null,
      "id": "eb4e2eaa",
      "metadata": {
        "execution": {
          "iopub.execute_input": "2023-12-14T17:38:06.118426Z",
          "iopub.status.busy": "2023-12-14T17:38:06.117860Z",
          "iopub.status.idle": "2023-12-14T17:38:06.275708Z",
          "shell.execute_reply": "2023-12-14T17:38:06.274261Z"
        },
        "papermill": {
          "duration": 0.177546,
          "end_time": "2023-12-14T17:38:06.278636",
          "exception": false,
          "start_time": "2023-12-14T17:38:06.101090",
          "status": "completed"
        },
        "tags": [],
        "id": "eb4e2eaa"
      },
      "outputs": [],
      "source": [
        "model = SentimentAnalysis(total_word=NUM_VOCAB, embed_size=EMBED_SIZE, hidden_size=HIDDEN_SIZE, num_class=NUM_CLASS)"
      ]
    },
    {
      "cell_type": "code",
      "execution_count": null,
      "id": "b40dfb91",
      "metadata": {
        "execution": {
          "iopub.execute_input": "2023-12-14T17:38:06.311439Z",
          "iopub.status.busy": "2023-12-14T17:38:06.310948Z",
          "iopub.status.idle": "2023-12-14T17:38:06.317121Z",
          "shell.execute_reply": "2023-12-14T17:38:06.315778Z"
        },
        "papermill": {
          "duration": 0.025414,
          "end_time": "2023-12-14T17:38:06.319492",
          "exception": false,
          "start_time": "2023-12-14T17:38:06.294078",
          "status": "completed"
        },
        "tags": [],
        "id": "b40dfb91"
      },
      "outputs": [],
      "source": [
        "loss_func = torch.nn.CrossEntropyLoss()\n",
        "optimizer = torch.optim.Adam(params=model.parameters(), lr=0.0001)\n"
      ]
    },
    {
      "cell_type": "code",
      "execution_count": null,
      "id": "c2b6de7b",
      "metadata": {
        "execution": {
          "iopub.execute_input": "2023-12-14T17:38:06.352653Z",
          "iopub.status.busy": "2023-12-14T17:38:06.352156Z",
          "iopub.status.idle": "2023-12-14T17:45:18.759503Z",
          "shell.execute_reply": "2023-12-14T17:45:18.757788Z"
        },
        "papermill": {
          "duration": 432.432506,
          "end_time": "2023-12-14T17:45:18.767348",
          "exception": false,
          "start_time": "2023-12-14T17:38:06.334842",
          "status": "completed"
        },
        "tags": [],
        "id": "c2b6de7b",
        "outputId": "132f3216-d259-4cac-dd58-3c10e2871dcc"
      },
      "outputs": [
        {
          "name": "stderr",
          "output_type": "stream",
          "text": [
            "Epoch: 1 - Loss: 0.48882538080215454: 100%|██████████| 257/257 [01:27<00:00,  2.94it/s]\n",
            "Epoch: 2 - Loss: 0.7623533010482788: 100%|██████████| 257/257 [01:26<00:00,  2.96it/s]\n",
            "Epoch: 3 - Loss: 0.44871076941490173: 100%|██████████| 257/257 [01:26<00:00,  2.98it/s]\n",
            "Epoch: 4 - Loss: 0.996732234954834: 100%|██████████| 257/257 [01:26<00:00,  2.98it/s]\n",
            "Epoch: 5 - Loss: 0.5825990438461304: 100%|██████████| 257/257 [01:25<00:00,  2.99it/s]\n"
          ]
        }
      ],
      "source": [
        "#TODO: build training loop to optimize model Sentiment Analysis\n",
        "\n",
        "# Pseudocode:\n",
        "# for each epoch:\n",
        "# --> shuffle train data\n",
        "# --> for each batch:\n",
        "# --> --> forward()\n",
        "# --> --> compute loss\n",
        "# --> --> backward()\n",
        "num_train = X_train.shape[0]\n",
        "inds = np.arange(num_train)\n",
        "for e in range(EPOCH):\n",
        "    np.random.shuffle(inds)\n",
        "    pbar = tqdm(range(0, X_train.shape[0], BATCH_SIZE), desc=\"Epoch {}\".format(e+1))\n",
        "    for i in pbar:\n",
        "        x = torch.Tensor(X_train[inds[i:i+BATCH_SIZE]])\n",
        "        x = x.type(dtype=torch.IntTensor)\n",
        "        y_hat = model(x)\n",
        "        y = torch.Tensor(y_train[inds[i:i+BATCH_SIZE]])\n",
        "        y = y.type(dtype=torch.LongTensor)\n",
        "        loss = loss_func(y_hat, y)\n",
        "        optimizer.zero_grad()\n",
        "        loss.backward()\n",
        "        optimizer.step()\n",
        "        pbar.set_description(\"Epoch: {} - Loss: {}\".format(e+1, loss.item()))"
      ]
    },
    {
      "cell_type": "code",
      "execution_count": null,
      "id": "a7e22c44",
      "metadata": {
        "execution": {
          "iopub.execute_input": "2023-12-14T17:45:19.316971Z",
          "iopub.status.busy": "2023-12-14T17:45:19.316453Z",
          "iopub.status.idle": "2023-12-14T17:45:26.140004Z",
          "shell.execute_reply": "2023-12-14T17:45:26.138599Z"
        },
        "papermill": {
          "duration": 7.111254,
          "end_time": "2023-12-14T17:45:26.143240",
          "exception": false,
          "start_time": "2023-12-14T17:45:19.031986",
          "status": "completed"
        },
        "tags": [],
        "id": "a7e22c44"
      },
      "outputs": [],
      "source": [
        "model.eval()\n",
        "with torch.no_grad():\n",
        "    x = torch.Tensor(X_test)\n",
        "    x = x.type(dtype=torch.IntTensor)\n",
        "    y_hat = model(x)"
      ]
    },
    {
      "cell_type": "code",
      "execution_count": null,
      "id": "55cc59c3",
      "metadata": {
        "execution": {
          "iopub.execute_input": "2023-12-14T17:45:26.672368Z",
          "iopub.status.busy": "2023-12-14T17:45:26.671592Z",
          "iopub.status.idle": "2023-12-14T17:45:26.681487Z",
          "shell.execute_reply": "2023-12-14T17:45:26.680135Z"
        },
        "papermill": {
          "duration": 0.274463,
          "end_time": "2023-12-14T17:45:26.684533",
          "exception": false,
          "start_time": "2023-12-14T17:45:26.410070",
          "status": "completed"
        },
        "tags": [],
        "id": "55cc59c3"
      },
      "outputs": [],
      "source": [
        "pred = y_hat.argmax(-1)\n",
        "pred = pred.cpu().numpy()"
      ]
    },
    {
      "cell_type": "code",
      "execution_count": null,
      "id": "8462c8e0",
      "metadata": {
        "execution": {
          "iopub.execute_input": "2023-12-14T17:45:27.299183Z",
          "iopub.status.busy": "2023-12-14T17:45:27.298677Z",
          "iopub.status.idle": "2023-12-14T17:45:27.305567Z",
          "shell.execute_reply": "2023-12-14T17:45:27.304311Z"
        },
        "papermill": {
          "duration": 0.271188,
          "end_time": "2023-12-14T17:45:27.309130",
          "exception": false,
          "start_time": "2023-12-14T17:45:27.037942",
          "status": "completed"
        },
        "tags": [],
        "id": "8462c8e0",
        "outputId": "c2e0e4b6-fd1b-4af7-c410-6e99e436dcb1"
      },
      "outputs": [
        {
          "name": "stdout",
          "output_type": "stream",
          "text": [
            "Accuracy: 0.7755550134179068\n"
          ]
        }
      ],
      "source": [
        "print(\"Accuracy:\", np.sum(pred == y_test)/y_test.shape[0])"
      ]
    }
  ],
  "metadata": {
    "kaggle": {
      "accelerator": "none",
      "dataSources": [
        {
          "datasetId": 897156,
          "sourceId": 1526618,
          "sourceType": "datasetVersion"
        }
      ],
      "dockerImageVersionId": 30626,
      "isGpuEnabled": false,
      "isInternetEnabled": true,
      "language": "python",
      "sourceType": "notebook"
    },
    "kernelspec": {
      "display_name": "Python 3",
      "language": "python",
      "name": "python3"
    },
    "language_info": {
      "codemirror_mode": {
        "name": "ipython",
        "version": 3
      },
      "file_extension": ".py",
      "mimetype": "text/x-python",
      "name": "python",
      "nbconvert_exporter": "python",
      "pygments_lexer": "ipython3",
      "version": "3.10.12"
    },
    "papermill": {
      "default_parameters": {},
      "duration": 848.069027,
      "end_time": "2023-12-14T17:45:30.405064",
      "environment_variables": {},
      "exception": null,
      "input_path": "__notebook__.ipynb",
      "output_path": "__notebook__.ipynb",
      "parameters": {},
      "start_time": "2023-12-14T17:31:22.336037",
      "version": "2.4.0"
    },
    "colab": {
      "provenance": []
    }
  },
  "nbformat": 4,
  "nbformat_minor": 5
}